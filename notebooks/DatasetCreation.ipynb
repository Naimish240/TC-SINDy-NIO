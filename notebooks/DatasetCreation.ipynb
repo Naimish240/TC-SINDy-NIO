{
 "cells": [
  {
   "cell_type": "markdown",
   "id": "8d55d9c6",
   "metadata": {},
   "source": [
    "# Dataset Creation\n",
    "\n",
    "This notebook goes through the steps involved in creating the dataset from the raw satellite image files from EUMETSAT."
   ]
  },
  {
   "cell_type": "markdown",
   "id": "b3485f51",
   "metadata": {},
   "source": []
  }
 ],
 "metadata": {
  "language_info": {
   "name": "python"
  }
 },
 "nbformat": 4,
 "nbformat_minor": 5
}
